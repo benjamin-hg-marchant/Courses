{
 "cells": [
  {
   "cell_type": "markdown",
   "id": "32662097",
   "metadata": {},
   "source": [
    "<div style=\"background-color:#3c3d41;padding:30px;border-radius:5px\">\n",
    "\n",
    "<h1 style=\"font-size:22px;color:white;margin-top:0px\">\n",
    "How to create a list of numbers in python ?\n",
    "</h1>\n",
    "\n",
    "<p style=\"font-size:14px;color:white\">\n",
    "Author: Benjamin H.G Marchant<br>\n",
    "License: CC BY 4.0\n",
    "</p>\n",
    "    \n",
    "</div>\n",
    "\n",
    "Source: [moonbooks.org](https://en.moonbooks.org/Articles/How-to-create-a-list-of-numbers-in-python-/)\n",
    "\n",
    "In this jupyter notebook, we will explore various ways to create a list of numbers in Python. This skill is particularly useful for numerous applications, such as generating synthetic data or creating visualizations where specifying a range of values is often necessary."
   ]
  },
  {
   "cell_type": "markdown",
   "id": "711e56a6",
   "metadata": {},
   "source": [
    "<h2 style=\"color:green\">\n",
    "Creating a list of integers\n",
    "</h2>\n",
    "\n",
    "To create a list of integers, one solution is to use Python's built-in range() function."
   ]
  },
  {
   "cell_type": "markdown",
   "id": "f0dbb7eb",
   "metadata": {},
   "source": [
    "### Creating a list of integers from 0 to n\n",
    "\n",
    "To create a list of integers between 0 and n, you can use a list comprehension with the range() function:"
   ]
  },
  {
   "cell_type": "code",
   "execution_count": 19,
   "id": "c204acd0",
   "metadata": {},
   "outputs": [
    {
     "data": {
      "text/plain": [
       "[0, 1, 2, 3, 4, 5, 6, 7, 8, 9]"
      ]
     },
     "execution_count": 19,
     "metadata": {},
     "output_type": "execute_result"
    }
   ],
   "source": [
    "n = 9\n",
    "\n",
    "[i for i in range(n+1)]"
   ]
  },
  {
   "cell_type": "markdown",
   "id": "9a5d541d",
   "metadata": {},
   "source": [
    "Another solution is to use the list() function, which directly converts range() into a list"
   ]
  },
  {
   "cell_type": "code",
   "execution_count": 20,
   "id": "2b225447",
   "metadata": {},
   "outputs": [
    {
     "data": {
      "text/plain": [
       "[0, 1, 2, 3, 4, 5, 6, 7, 8, 9]"
      ]
     },
     "execution_count": 20,
     "metadata": {},
     "output_type": "execute_result"
    }
   ],
   "source": [
    "list(range(n+1))"
   ]
  },
  {
   "cell_type": "markdown",
   "id": "24dd02b3",
   "metadata": {},
   "source": [
    "### Creating a list of even numbers \n",
    "\n",
    "To create a list of even numbers, you can simply add a condition that the number must be divisible by 2 using an if condition:"
   ]
  },
  {
   "cell_type": "code",
   "execution_count": 21,
   "id": "e3f395e9",
   "metadata": {},
   "outputs": [
    {
     "data": {
      "text/plain": [
       "[0, 2, 4, 6, 8]"
      ]
     },
     "execution_count": 21,
     "metadata": {},
     "output_type": "execute_result"
    }
   ],
   "source": [
    "[i for i in range(10) if i%2 == 0]"
   ]
  },
  {
   "cell_type": "markdown",
   "id": "c81b75f9",
   "metadata": {},
   "source": [
    "### Creating a list of odd numbers \n",
    "\n",
    "Similarly, if you want to create a list of odd numbers, you can add a condition that the number must not be divisible by 2:"
   ]
  },
  {
   "cell_type": "code",
   "execution_count": 22,
   "id": "3220c08c",
   "metadata": {},
   "outputs": [
    {
     "data": {
      "text/plain": [
       "[1, 3, 5, 7, 9]"
      ]
     },
     "execution_count": 22,
     "metadata": {},
     "output_type": "execute_result"
    }
   ],
   "source": [
    "[i for i in range(10) if i%2 != 0]"
   ]
  },
  {
   "cell_type": "markdown",
   "id": "787d105a",
   "metadata": {},
   "source": [
    "### Creating a list of integers from m to n\n",
    "\n",
    "So far, our list started at 0, but by using range(), it is possible to define both lower and upper boundaries:"
   ]
  },
  {
   "cell_type": "code",
   "execution_count": 23,
   "id": "4863230e",
   "metadata": {},
   "outputs": [
    {
     "data": {
      "text/plain": [
       "[1, 2, 3, 4, 5, 6, 7, 8, 9]"
      ]
     },
     "execution_count": 23,
     "metadata": {},
     "output_type": "execute_result"
    }
   ],
   "source": [
    "m = 1\n",
    "n = 9\n",
    "\n",
    "[i for i in range(m,n+1)]"
   ]
  },
  {
   "cell_type": "markdown",
   "id": "0dbc3281",
   "metadata": {},
   "source": [
    "Creating a list from -10 to 10"
   ]
  },
  {
   "cell_type": "code",
   "execution_count": 24,
   "id": "a51bbcde",
   "metadata": {},
   "outputs": [
    {
     "data": {
      "text/plain": [
       "[-10, -9, -8, -7, -6, -5, -4, -3, -2, -1, 0, 1, 2, 3, 4, 5, 6, 7, 8, 9, 10]"
      ]
     },
     "execution_count": 24,
     "metadata": {},
     "output_type": "execute_result"
    }
   ],
   "source": [
    "[i for i in range(-10,11)]"
   ]
  },
  {
   "cell_type": "markdown",
   "id": "640dff32",
   "metadata": {},
   "source": [
    "Using list():"
   ]
  },
  {
   "cell_type": "code",
   "execution_count": 25,
   "id": "b31cec1c",
   "metadata": {},
   "outputs": [
    {
     "data": {
      "text/plain": [
       "[-10, -9, -8, -7, -6, -5, -4, -3, -2, -1, 0, 1, 2, 3, 4, 5, 6, 7, 8, 9, 10]"
      ]
     },
     "execution_count": 25,
     "metadata": {},
     "output_type": "execute_result"
    }
   ],
   "source": [
    "list(range(-10,11))"
   ]
  },
  {
   "cell_type": "markdown",
   "id": "a9daa039",
   "metadata": {},
   "source": [
    "### Creating a list of integers using multiple conditions\n",
    "\n",
    "Creating a list of integers using multiple conditions typically involves using a list comprehension with conditions that filter elements based on specified criteria. Here's a generic example:"
   ]
  },
  {
   "cell_type": "code",
   "execution_count": 26,
   "id": "5ebef0ce",
   "metadata": {},
   "outputs": [
    {
     "data": {
      "text/plain": [
       "[6, 7, 8, 9, 10]"
      ]
     },
     "execution_count": 26,
     "metadata": {},
     "output_type": "execute_result"
    }
   ],
   "source": [
    "[x for x in range(-10,11) if x > 5 and x < 20]"
   ]
  },
  {
   "cell_type": "markdown",
   "id": "4e78edaa",
   "metadata": {},
   "source": [
    "### Creating a list of integers using a function\n",
    "\n",
    "To create a list of integers using a function, you can directly define the function within the list comprehension, especially when the function is straightforward."
   ]
  },
  {
   "cell_type": "code",
   "execution_count": 27,
   "id": "128330fb",
   "metadata": {},
   "outputs": [
    {
     "data": {
      "text/plain": [
       "[0, 1, 4, 9, 16, 25, 36, 49, 64, 81]"
      ]
     },
     "execution_count": 27,
     "metadata": {},
     "output_type": "execute_result"
    }
   ],
   "source": [
    "[i**2 for i in range(10)]"
   ]
  },
  {
   "cell_type": "markdown",
   "id": "9178411c",
   "metadata": {},
   "source": [
    "or defining a function separately: "
   ]
  },
  {
   "cell_type": "code",
   "execution_count": 28,
   "id": "41a93a48",
   "metadata": {},
   "outputs": [
    {
     "data": {
      "text/plain": [
       "[0, 1, 4, 9, 16, 25, 36, 49, 64, 81]"
      ]
     },
     "execution_count": 28,
     "metadata": {},
     "output_type": "execute_result"
    }
   ],
   "source": [
    "def square(x):\n",
    "    return x**2\n",
    "\n",
    "[square(x) for x in range(10)]"
   ]
  },
  {
   "cell_type": "markdown",
   "id": "5f9935cb",
   "metadata": {},
   "source": [
    "<h2 style=\"color:green\">\n",
    "Creating a list of floats\n",
    "</h2>\n",
    "\n",
    "To create a list of floats, our approach will vary based on whether we prioritize the interval between values or the total number of values within a range."
   ]
  },
  {
   "cell_type": "markdown",
   "id": "c5d2cac2",
   "metadata": {},
   "source": [
    "### Creating a list of floats using arange\n",
    "\n",
    "For example, to create a list of floats between 2 and 8 with a step of 0.5, we can utilize the NumPy function arange:"
   ]
  },
  {
   "cell_type": "code",
   "execution_count": 29,
   "id": "7c6c3aff",
   "metadata": {},
   "outputs": [
    {
     "data": {
      "text/plain": [
       "[2.0, 2.5, 3.0, 3.5, 4.0, 4.5, 5.0, 5.5, 6.0, 6.5, 7.0, 7.5]"
      ]
     },
     "execution_count": 29,
     "metadata": {},
     "output_type": "execute_result"
    }
   ],
   "source": [
    "import numpy as np\n",
    "\n",
    "i_start = 2\n",
    "i_end = 8\n",
    "step = 0.5\n",
    "\n",
    "[i for i in np.arange(i_start,i_end,step)]"
   ]
  },
  {
   "cell_type": "markdown",
   "id": "17cd9536",
   "metadata": {},
   "source": [
    "Using list() function:"
   ]
  },
  {
   "cell_type": "code",
   "execution_count": 30,
   "id": "129cdcf6",
   "metadata": {},
   "outputs": [
    {
     "data": {
      "text/plain": [
       "[2.0, 2.5, 3.0, 3.5, 4.0, 4.5, 5.0, 5.5, 6.0, 6.5, 7.0, 7.5]"
      ]
     },
     "execution_count": 30,
     "metadata": {},
     "output_type": "execute_result"
    }
   ],
   "source": [
    "list(np.arange(i_start,i_end,step))"
   ]
  },
  {
   "cell_type": "markdown",
   "id": "197f7d47",
   "metadata": {},
   "source": [
    "### Creating a list of floats using a linspace\n",
    "\n",
    "To create a list of n floats between two values, a solution is to use the NumPy function linspac:"
   ]
  },
  {
   "cell_type": "code",
   "execution_count": 31,
   "id": "2f668eb8",
   "metadata": {},
   "outputs": [
    {
     "data": {
      "text/plain": [
       "[12.0,\n",
       " 12.571428571428571,\n",
       " 13.142857142857142,\n",
       " 13.714285714285714,\n",
       " 14.285714285714285,\n",
       " 14.857142857142858,\n",
       " 15.428571428571429,\n",
       " 16.0]"
      ]
     },
     "execution_count": 31,
     "metadata": {},
     "output_type": "execute_result"
    }
   ],
   "source": [
    "i_start = 12\n",
    "i_end = 16\n",
    "\n",
    "count = 8\n",
    "\n",
    "[i for i in np.linspace(i_start,i_end,count)]"
   ]
  },
  {
   "cell_type": "markdown",
   "id": "b62b3c23",
   "metadata": {},
   "source": [
    "Using list() function:"
   ]
  },
  {
   "cell_type": "code",
   "execution_count": 32,
   "id": "79071231",
   "metadata": {},
   "outputs": [
    {
     "data": {
      "text/plain": [
       "[12.0,\n",
       " 12.571428571428571,\n",
       " 13.142857142857142,\n",
       " 13.714285714285714,\n",
       " 14.285714285714285,\n",
       " 14.857142857142858,\n",
       " 15.428571428571429,\n",
       " 16.0]"
      ]
     },
     "execution_count": 32,
     "metadata": {},
     "output_type": "execute_result"
    }
   ],
   "source": [
    "list(np.linspace(i_start,i_end,count))"
   ]
  },
  {
   "cell_type": "markdown",
   "id": "23820d1f",
   "metadata": {},
   "source": [
    "<h2 style=\"color:green\">\n",
    "Create a list of random numbers\n",
    "</h2>\n",
    "\n",
    "To create a list of random numbers in Python, there are several approaches available. For creating for example a list of random integers, one simple method is to use the randint function from Python's random module."
   ]
  },
  {
   "cell_type": "code",
   "execution_count": 33,
   "id": "20c1c556",
   "metadata": {},
   "outputs": [
    {
     "data": {
      "text/plain": [
       "[1, 0, 0, 1, 0, 0, 0, 1, 1, 1]"
      ]
     },
     "execution_count": 33,
     "metadata": {},
     "output_type": "execute_result"
    }
   ],
   "source": [
    "import random\n",
    "\n",
    "[random.randint(0,1) for i in range(10)]"
   ]
  },
  {
   "cell_type": "markdown",
   "id": "8d9bf72e",
   "metadata": {},
   "source": [
    "Another solution is to use the sample function from the random module:"
   ]
  },
  {
   "cell_type": "code",
   "execution_count": 34,
   "id": "cbb90173",
   "metadata": {},
   "outputs": [
    {
     "data": {
      "text/plain": [
       "[28, 43, 85, 77, 89, 47, 24, 35, 20, 58]"
      ]
     },
     "execution_count": 34,
     "metadata": {},
     "output_type": "execute_result"
    }
   ],
   "source": [
    "random.sample(range(1,100),10)"
   ]
  },
  {
   "cell_type": "markdown",
   "id": "11f988a9",
   "metadata": {},
   "source": [
    "<h2 style=\"color:green\">\n",
    "Creating a list of integers representing the days of a specific month\n",
    "</h2>\n",
    "\n",
    "Another very useful tool is the ability to automatically create a list of integers representing the days of a specific month. This can be achieved using monthrange from the Python module calendar:"
   ]
  },
  {
   "cell_type": "code",
   "execution_count": 35,
   "id": "4e247010",
   "metadata": {},
   "outputs": [],
   "source": [
    "from calendar import monthrange"
   ]
  },
  {
   "cell_type": "markdown",
   "id": "f39139d7",
   "metadata": {},
   "source": [
    "For example, if you're considering a typical leap year "
   ]
  },
  {
   "cell_type": "code",
   "execution_count": 36,
   "id": "0ee10fe4",
   "metadata": {},
   "outputs": [],
   "source": [
    "year = 2008\n",
    "month = 2"
   ]
  },
  {
   "cell_type": "markdown",
   "id": "86922eb0",
   "metadata": {},
   "source": [
    "and you want to get the number of days for February, you can do:"
   ]
  },
  {
   "cell_type": "code",
   "execution_count": 37,
   "id": "2218dbdb",
   "metadata": {},
   "outputs": [
    {
     "data": {
      "text/plain": [
       "29"
      ]
     },
     "execution_count": 37,
     "metadata": {},
     "output_type": "execute_result"
    }
   ],
   "source": [
    "monthrange(year,month)[1]"
   ]
  },
  {
   "cell_type": "markdown",
   "id": "c5672146",
   "metadata": {},
   "source": [
    "To create a list of days, you can then combine range with a list comprehension:"
   ]
  },
  {
   "cell_type": "code",
   "execution_count": 38,
   "id": "5f4dc77d",
   "metadata": {},
   "outputs": [
    {
     "data": {
      "text/plain": [
       "[1,\n",
       " 2,\n",
       " 3,\n",
       " 4,\n",
       " 5,\n",
       " 6,\n",
       " 7,\n",
       " 8,\n",
       " 9,\n",
       " 10,\n",
       " 11,\n",
       " 12,\n",
       " 13,\n",
       " 14,\n",
       " 15,\n",
       " 16,\n",
       " 17,\n",
       " 18,\n",
       " 19,\n",
       " 20,\n",
       " 21,\n",
       " 22,\n",
       " 23,\n",
       " 24,\n",
       " 25,\n",
       " 26,\n",
       " 27,\n",
       " 28,\n",
       " 29]"
      ]
     },
     "execution_count": 38,
     "metadata": {},
     "output_type": "execute_result"
    }
   ],
   "source": [
    "[day for day in range(1,monthrange(year,month)[1]+1)]"
   ]
  },
  {
   "cell_type": "code",
   "execution_count": null,
   "id": "df13e2d5",
   "metadata": {},
   "outputs": [],
   "source": []
  }
 ],
 "metadata": {
  "kernelspec": {
   "display_name": "worklab",
   "language": "python",
   "name": "worklab"
  },
  "language_info": {
   "codemirror_mode": {
    "name": "ipython",
    "version": 3
   },
   "file_extension": ".py",
   "mimetype": "text/x-python",
   "name": "python",
   "nbconvert_exporter": "python",
   "pygments_lexer": "ipython3",
   "version": "3.9.12"
  }
 },
 "nbformat": 4,
 "nbformat_minor": 5
}
